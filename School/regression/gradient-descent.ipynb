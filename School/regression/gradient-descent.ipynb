{
 "cells": [
  {
   "cell_type": "markdown",
   "id": "b25ff01f",
   "metadata": {},
   "source": [
    "**Local minimum**: point where the function value is lower than at neighboring points.<br>\n",
    "**Global minimum**: point where the function value is lower than at all other points.\n"
   ]
  },
  {
   "cell_type": "code",
   "execution_count": null,
   "id": "7ba2c420",
   "metadata": {},
   "outputs": [],
   "source": [
    "# solving equations can be complex or impossible because of non-linearity, high dimensionality, too many variables, etc.\n",
    "# so we usually find local minima instead of global minima, and hope it's good enough\n",
    "# gradient descent: optimization algorithm to find local minimum by iteratively moving in the direction of steepest descent (negative gradient)\n",
    "# learning rate: step size in gradient descent, controls how much to change parameters at each step"
   ]
  }
 ],
 "metadata": {
  "language_info": {
   "name": "python"
  }
 },
 "nbformat": 4,
 "nbformat_minor": 5
}
